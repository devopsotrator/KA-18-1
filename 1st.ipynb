{
 "cells": [
  {
   "cell_type": "code",
   "execution_count": 5,
   "id": "698b05b9-615e-4ac9-a079-bf2bbaaac3e0",
   "metadata": {},
   "outputs": [],
   "source": [
    "import requests\n",
    "from bs4 import BeautifulSoup"
   ]
  },
  {
   "cell_type": "code",
   "execution_count": 3,
   "id": "b20f3755-9963-44ec-9b80-4573530d6004",
   "metadata": {},
   "outputs": [],
   "source": [
    "r = requests.get('https://lenta.ru/news/2021/10/14/biletyoae/')"
   ]
  },
  {
   "cell_type": "code",
   "execution_count": 7,
   "id": "8b50d42e-f582-42c1-9598-2b6199f2f1a6",
   "metadata": {},
   "outputs": [],
   "source": [
    "soup = BeautifulSoup(r.content, 'html.parser')\n"
   ]
  },
  {
   "cell_type": "code",
   "execution_count": 13,
   "id": "396ffd67-efd9-489f-a365-31530dc80a59",
   "metadata": {},
   "outputs": [
    {
     "data": {
      "text/plain": [
       "'Россиянам рассказали о возможности дешево слетать в ОАЭ: Мир: Путешествия: Lenta.ru'"
      ]
     },
     "execution_count": 13,
     "metadata": {},
     "output_type": "execute_result"
    }
   ],
   "source": [
    "soup.title.text"
   ]
  },
  {
   "cell_type": "code",
   "execution_count": 9,
   "id": "638e25fa-2394-4894-b389-e6a0e7d3b661",
   "metadata": {},
   "outputs": [],
   "source": [
    "article_body = soup.find(\"div\", itemprop=\"articleBody\")"
   ]
  },
  {
   "cell_type": "code",
   "execution_count": 12,
   "id": "d07d745b-ede2-4c13-92dd-d0704f5d6a0f",
   "metadata": {},
   "outputs": [
    {
     "data": {
      "text/plain": [
       "'Стоимость туров в Объединенные Арабские Эмираты снизится благодаря увеличению количества авиарейсов из России на курорт. Об этом сообщает «Интерфакс».Как рассказал генеральный директор туроператора «Арт-Тур» Дмитрий Арутюнов, помимо путевок у россиян появится возможность купить более дешевые авиабилеты.«Это позитивная новость, потому что мало стран, которые на сегодняшний день открыты для туристов. Чем больше будет рейсов, тем доступнее будет направление для россиян, поскольку стоимость авиаперевозки снизится», — подчеркнул он.При этом эксперт отметил, что ОАЭ пользуются популярностью у российских путешественников в зимнее время года, в том числе из-за достаточно нестрогих правил въезда (туристы сдают ПЦР-тест перед поездкой и повторно по прибытии). В связи с этим многие гостиницы бьют рекорды по загрузке, поэтому ожидать сильного снижения цен на туры не стоит.Ранее в октябре туроператоры назвали оптимальную стоимость путевок на курорты ОАЭ. Средняя цена недельного отдыха в четырехзвездочном отеле с питанием по системе «все включено» и вылетом в октябре для двоих путешественников будет составлять 1374 доллара (примерно 98,3 тысячи рублей). Отдых в гостинице категории «пять звезд» выйдет дороже — от 1933 до 2353 долларов (138,4-168,5 тысячи рублей).'"
      ]
     },
     "execution_count": 12,
     "metadata": {},
     "output_type": "execute_result"
    }
   ],
   "source": [
    "article_body.text"
   ]
  },
  {
   "cell_type": "code",
   "execution_count": 14,
   "id": "34d422de-f3e9-4b1d-86e9-0373ba5a3941",
   "metadata": {},
   "outputs": [],
   "source": [
    "news_page = dict()"
   ]
  },
  {
   "cell_type": "code",
   "execution_count": null,
   "id": "0e735a14-fad5-4f4c-8bc3-1a2b9589ca29",
   "metadata": {},
   "outputs": [],
   "source": [
    "b = dict()\n",
    "c = dict()\n",
    "d = dict()\n",
    "e = dict()\n",
    "f = dict()\n",
    "g = dict()\n",
    "a = dict(left=b, right=c)\n",
    "b = dict(left=d, right=e)\n",
    "c = dict(left=f)\n",
    "f = dict(right=g)"
   ]
  },
  {
   "cell_type": "code",
   "execution_count": 15,
   "id": "4801e2ed-fad7-4be9-ae87-7ef64b93e799",
   "metadata": {},
   "outputs": [],
   "source": [
    "def depth_counter(node, current_depth):\n",
    "    left = node.get('left')\n",
    "    right = node.get('right')\n",
    "    leaf = not (left or right)\n",
    "    if leaf:\n",
    "        current_depth += 1\n",
    "        return current_depth\n",
    "    else:\n",
    "        left_depth = depth_counter(left, current_counter)\n",
    "        right_depth = depth_counter(right, current_counter)\n",
    "        return left_depth if left_depth > right_depth else right_depth"
   ]
  },
  {
   "cell_type": "code",
   "execution_count": 16,
   "id": "9bd230d4-a835-4ff4-8e9f-c55cb34594be",
   "metadata": {},
   "outputs": [],
   "source": [
    "test['foo'] = 'bar'\n",
    "test['spam'] = 'ham'"
   ]
  },
  {
   "cell_type": "code",
   "execution_count": 19,
   "id": "a6ed4f70-9c10-4214-8734-931204522765",
   "metadata": {},
   "outputs": [
    {
     "name": "stdout",
     "output_type": "stream",
     "text": [
      "foo\n",
      "spam\n"
     ]
    }
   ],
   "source": [
    "for i in test:\n",
    "    print(i)"
   ]
  },
  {
   "cell_type": "code",
   "execution_count": null,
   "id": "ad7458c4-9aa6-415e-a005-1ce6a4d59136",
   "metadata": {},
   "outputs": [],
   "source": []
  }
 ],
 "metadata": {
  "kernelspec": {
   "display_name": "Python 3 (ipykernel)",
   "language": "python",
   "name": "python3"
  },
  "language_info": {
   "codemirror_mode": {
    "name": "ipython",
    "version": 3
   },
   "file_extension": ".py",
   "mimetype": "text/x-python",
   "name": "python",
   "nbconvert_exporter": "python",
   "pygments_lexer": "ipython3",
   "version": "3.8.12"
  }
 },
 "nbformat": 4,
 "nbformat_minor": 5
}
