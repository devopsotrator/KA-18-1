{
 "cells": [
  {
   "cell_type": "code",
   "execution_count": 4,
   "id": "698b05b9-615e-4ac9-a079-bf2bbaaac3e0",
   "metadata": {},
   "outputs": [],
   "source": [
    "import requests\n",
    "from bs4 import BeautifulSoup"
   ]
  },
  {
   "cell_type": "code",
   "execution_count": 5,
   "id": "b20f3755-9963-44ec-9b80-4573530d6004",
   "metadata": {},
   "outputs": [],
   "source": [
    "r = requests.get('https://lenta.ru/news/2021/10/14/biletyoae/')"
   ]
  },
  {
   "cell_type": "code",
   "execution_count": 6,
   "id": "8b50d42e-f582-42c1-9598-2b6199f2f1a6",
   "metadata": {},
   "outputs": [],
   "source": [
    "soup = BeautifulSoup(r.content, 'html.parser')\n"
   ]
  },
  {
   "cell_type": "code",
   "execution_count": 7,
   "id": "396ffd67-efd9-489f-a365-31530dc80a59",
   "metadata": {},
   "outputs": [
    {
     "data": {
      "text/plain": [
       "'Россиянам рассказали о возможности дешево слетать в ОАЭ: Мир: Путешествия: Lenta.ru'"
      ]
     },
     "execution_count": 7,
     "metadata": {},
     "output_type": "execute_result"
    }
   ],
   "source": [
    "soup.title.text"
   ]
  },
  {
   "cell_type": "code",
   "execution_count": 8,
   "id": "638e25fa-2394-4894-b389-e6a0e7d3b661",
   "metadata": {},
   "outputs": [],
   "source": [
    "article_body = soup.find(\"div\", itemprop=\"articleBody\")"
   ]
  },
  {
   "cell_type": "code",
   "execution_count": 16,
   "id": "d07d745b-ede2-4c13-92dd-d0704f5d6a0f",
   "metadata": {},
   "outputs": [
    {
     "data": {
      "text/plain": [
       "'Стоимость туров в Объединенные Арабские Эмираты снизится благодаря увеличению количества авиарейсов из России на курорт. Об этом сообщает «Интерфакс».Как рассказал генеральный директор туроператора «Арт-Тур» Дмитрий Арутюнов, помимо путевок у россиян появится возможность купить более дешевые авиабилеты.«Это позитивная новость, потому что мало стран, которые на сегодняшний день открыты для туристов. Чем больше будет рейсов, тем доступнее будет направление для россиян, поскольку стоимость авиаперевозки снизится», — подчеркнул он.При этом эксперт отметил, что ОАЭ пользуются популярностью у российских путешественников в зимнее время года, в том числе из-за достаточно нестрогих правил въезда (туристы сдают ПЦР-тест перед поездкой и повторно по прибытии). В связи с этим многие гостиницы бьют рекорды по загрузке, поэтому ожидать сильного снижения цен на туры не стоит.Ранее в октябре туроператоры назвали оптимальную стоимость путевок на курорты ОАЭ. Средняя цена недельного отдыха в четырехзвездочном отеле с питанием по системе «все включено» и вылетом в октябре для двоих путешественников будет составлять 1374 доллара (примерно 98,3 тысячи рублей). Отдых в гостинице категории «пять звезд» выйдет дороже — от 1933 до 2353 долларов (138,4-168,5 тысячи рублей).'"
      ]
     },
     "execution_count": 16,
     "metadata": {},
     "output_type": "execute_result"
    }
   ],
   "source": [
    "article_body.text"
   ]
  },
  {
   "cell_type": "code",
   "execution_count": 11,
   "id": "2b52bf2b-278b-4bae-b390-f4ba6597186a",
   "metadata": {},
   "outputs": [],
   "source": [
    "article_links = soup.find_all(\"a\", href=True)"
   ]
  },
  {
   "cell_type": "code",
   "execution_count": 17,
   "id": "3bbafef6-e430-48c8-a776-b8d80788d63f",
   "metadata": {},
   "outputs": [],
   "source": [
    "links_filtered = list()\n",
    "for link in article_links:\n",
    "    if not 'http' in link['href']:\n",
    "        links_filtered.append(link['href'])"
   ]
  },
  {
   "cell_type": "code",
   "execution_count": 18,
   "id": "36877a3b-9b27-4b70-93d5-5efe6d589219",
   "metadata": {},
   "outputs": [
    {
     "data": {
      "text/plain": [
       "['/',\n",
       " '/rubrics/russia/',\n",
       " '/rubrics/world/',\n",
       " '/rubrics/ussr/',\n",
       " '/rubrics/economics/',\n",
       " '/rubrics/forces/',\n",
       " '/rubrics/science/',\n",
       " '/rubrics/culture/',\n",
       " '/rubrics/sport/',\n",
       " '/rubrics/media/',\n",
       " '/rubrics/style/',\n",
       " '/rubrics/travel/',\n",
       " '/rubrics/life/',\n",
       " '/rubrics/realty/',\n",
       " '/auth/',\n",
       " '/parts/text/',\n",
       " '/parts/photo/',\n",
       " '/parts/video/',\n",
       " '/specprojects/editor_choice/',\n",
       " '/',\n",
       " '/rubrics/travel/',\n",
       " '/rubrics/travel/',\n",
       " '/rubrics/travel/rus/',\n",
       " '/rubrics/travel/world/',\n",
       " '/rubrics/travel/events/',\n",
       " '/rubrics/travel/accident/',\n",
       " '/rubrics/travel/opinion/',\n",
       " '/2021/10/23/',\n",
       " '/news/2021/10/23/ukr_rus/',\n",
       " '/news/2021/10/23/pacific/',\n",
       " '/news/2021/10/23/vedenin_rip/',\n",
       " '/news/2021/10/23/kuchma/',\n",
       " '/news/2021/10/23/max_ham/',\n",
       " '/news/2021/10/23/skr/',\n",
       " '/news/2021/10/23/suicide/',\n",
       " '/news/2021/10/23/boyazn_kryma/',\n",
       " '/news/2021/10/23/hunter/',\n",
       " '/auth/',\n",
       " '/my/dashboard',\n",
       " '/parts/authors/mgeyn/',\n",
       " '/auth/',\n",
       " '/my/dashboard',\n",
       " '/comments/news/2021/10/14/biletyoae/',\n",
       " '/rubrics/travel/',\n",
       " '/rubrics/travel/',\n",
       " '/articles/2021/08/03/azerbaidzhan/',\n",
       " '/articles/2021/08/03/azerbaidzhan/',\n",
       " '/news/2021/10/20/tunis/',\n",
       " '/news/2021/10/20/maldives/',\n",
       " '/news/2021/10/19/thainaletay/',\n",
       " '/rubrics/travel/',\n",
       " '/articles/2021/07/19/pakistan/',\n",
       " '/articles/2021/07/19/pakistan/',\n",
       " '/news/2021/10/19/cuba/',\n",
       " '/news/2021/10/19/dominicana/',\n",
       " '/news/2021/10/19/vaccinetours/',\n",
       " '/rubrics/travel/',\n",
       " '/articles/2021/07/15/adygea/',\n",
       " '/articles/2021/07/15/adygea/',\n",
       " '/news/2021/10/19/popular/',\n",
       " '/news/2021/10/19/yacht/',\n",
       " '/news/2021/10/19/etopobeda/',\n",
       " '/rubrics/russia/',\n",
       " '/news/2021/10/22/surrogat/',\n",
       " '/articles/2021/10/23/oncopregnancy/',\n",
       " '/news/2021/10/22/fourteen/',\n",
       " '/brief/2021/10/20/days_off/',\n",
       " '/news/2021/10/22/zhku/',\n",
       " '/articles/2021/10/04/immunitet/',\n",
       " '/rubrics/russia/',\n",
       " '/rubrics/world/',\n",
       " '/articles/2021/10/06/alessandro_monsutti/',\n",
       " '/brief/2021/10/03/pandorapapers/',\n",
       " '/articles/2021/10/02/kosovo/',\n",
       " '/rubrics/world/',\n",
       " '/rubrics/ussr/',\n",
       " '/articles/2021/10/16/arm_az/',\n",
       " '/themes/2021/10/06/30_let/',\n",
       " '/articles/2021/10/11/alar_karis/',\n",
       " '/articles/2021/10/10/semipalatinskii_poligon/',\n",
       " '/rubrics/ussr/',\n",
       " '/rubrics/economics/',\n",
       " '/news/2021/10/22/bow_and_arrow/',\n",
       " '/news/2021/10/22/eurofer/',\n",
       " '/news/2021/10/22/citymbl/',\n",
       " '/articles/2021/10/12/nobe/',\n",
       " '/news/2021/10/22/alfa/',\n",
       " '/rubrics/economics/',\n",
       " '/rubrics/forces/',\n",
       " '/articles/2021/10/23/lenin/',\n",
       " '/articles/2021/10/21/vvz/',\n",
       " '/themes/2020/09/25/razvedka/',\n",
       " '/rubrics/forces/',\n",
       " '/rubrics/science/',\n",
       " '/articles/2021/10/09/kojima/',\n",
       " '/rubrics/science/',\n",
       " '/rubrics/sport/',\n",
       " '/news/2021/10/22/efimovajulia/',\n",
       " '/articles/2021/10/22/chigireva/',\n",
       " '/news/2021/10/22/irinacomeback/',\n",
       " '/articles/2021/10/19/russian_critique/',\n",
       " '/news/2021/10/22/samysamymolodoi/',\n",
       " '/articles/2021/10/17/mineev_isma/',\n",
       " '/news/2021/10/22/nakazany/',\n",
       " '/rubrics/sport/',\n",
       " '/rubrics/culture/',\n",
       " '/articles/2021/10/11/sept_music/',\n",
       " '/brief/2021/10/09/bolshoydeath/',\n",
       " '/articles/2021/10/10/myth/',\n",
       " '/articles/2021/10/09/squidgame/',\n",
       " '/rubrics/culture/',\n",
       " '/rubrics/media/',\n",
       " '/news/2021/10/22/ryazan/',\n",
       " '/articles/2021/10/21/kazaryan/',\n",
       " '/news/2021/10/22/bachelor/',\n",
       " '/news/2021/10/22/webcam/',\n",
       " '/photo/2021/10/20/stenin/',\n",
       " '/news/2021/10/22/peskov_smi/',\n",
       " '/extlink/2021/10/18/voina_v_tog/',\n",
       " '/rubrics/media/',\n",
       " '/rubrics/style/',\n",
       " '/news/2021/10/22/vika90/',\n",
       " '/articles/2021/10/22/working_girl/',\n",
       " '/news/2021/10/22/brit/',\n",
       " '/news/2021/10/22/nosex/',\n",
       " '/news/2021/10/22/sexycode/',\n",
       " '/articles/2021/10/17/timoshenko/',\n",
       " '/rubrics/style/',\n",
       " '/rubrics/travel/',\n",
       " '/articles/2021/10/13/jerry/',\n",
       " '/articles/2021/10/03/fawcett/',\n",
       " '/rubrics/travel/',\n",
       " '/rubrics/life/',\n",
       " '/news/2021/10/22/svoiprichudy/',\n",
       " '/articles/2021/10/23/brothers/',\n",
       " '/news/2021/10/22/cravings/',\n",
       " '/news/2021/10/22/pirates/',\n",
       " '/articles/2021/10/16/dagobert/',\n",
       " '/news/2021/10/22/birthday/',\n",
       " '/rubrics/life/',\n",
       " '/rubrics/motor/',\n",
       " '/rubrics/motor/',\n",
       " '/rubrics/realty/',\n",
       " '/articles/2021/10/20/rent_casting/',\n",
       " '/photo/2021/10/17/eiffel/',\n",
       " '/rubrics/realty/',\n",
       " '/rubrics/np/',\n",
       " '/news/2020/12/30/vozrast/',\n",
       " '/articles/2020/12/28/cifrr/',\n",
       " '/news/2020/12/30/attestats/',\n",
       " '/articles/2020/12/20/domashka/',\n",
       " '/news/2020/12/30/dorogiprim/',\n",
       " '/articles/2020/12/19/samozan/',\n",
       " '/news/2020/12/30/novosib/',\n",
       " '/rubrics/np/',\n",
       " '/rubrics/mycountry/',\n",
       " '/articles/2021/10/19/montazher/',\n",
       " '/articles/2021/10/21/podparusom/',\n",
       " '/articles/2021/10/18/narodi/',\n",
       " '/articles/2021/10/20/surfmagadan/',\n",
       " '/articles/2021/10/19/kinoold/',\n",
       " '/articles/2021/10/19/stalingrad/',\n",
       " '/articles/2021/10/09/crimea/',\n",
       " '/rubrics/mycountry/',\n",
       " '/info/',\n",
       " '/info/posts/sales',\n",
       " '/parts/pressreleases/',\n",
       " 'mailto:it@lenta-co.ru',\n",
       " '/specprojects/',\n",
       " '/rss']"
      ]
     },
     "execution_count": 18,
     "metadata": {},
     "output_type": "execute_result"
    }
   ],
   "source": [
    "links_filtered"
   ]
  },
  {
   "cell_type": "code",
   "execution_count": 14,
   "id": "34d422de-f3e9-4b1d-86e9-0373ba5a3941",
   "metadata": {},
   "outputs": [],
   "source": [
    "news_page = dict()"
   ]
  },
  {
   "cell_type": "code",
   "execution_count": null,
   "id": "0e735a14-fad5-4f4c-8bc3-1a2b9589ca29",
   "metadata": {},
   "outputs": [],
   "source": [
    "b = dict()\n",
    "c = dict()\n",
    "d = dict()\n",
    "e = dict()\n",
    "f = dict()\n",
    "g = dict()\n",
    "a = dict(left=b, right=c)\n",
    "b = dict(left=d, right=e)\n",
    "c = dict(left=f)\n",
    "f = dict(right=g)"
   ]
  },
  {
   "cell_type": "code",
   "execution_count": 15,
   "id": "4801e2ed-fad7-4be9-ae87-7ef64b93e799",
   "metadata": {},
   "outputs": [],
   "source": [
    "def depth_counter(node, current_depth):\n",
    "    left = node.get('left')\n",
    "    right = node.get('right')\n",
    "    leaf = not (left or right)\n",
    "    if leaf:\n",
    "        current_depth += 1\n",
    "        return current_depth\n",
    "    else:\n",
    "        left_depth = depth_counter(left, current_counter)\n",
    "        right_depth = depth_counter(right, current_counter)\n",
    "        return left_depth if left_depth > right_depth else right_depth"
   ]
  },
  {
   "cell_type": "code",
   "execution_count": 16,
   "id": "9bd230d4-a835-4ff4-8e9f-c55cb34594be",
   "metadata": {},
   "outputs": [],
   "source": [
    "test['foo'] = 'bar'\n",
    "test['spam'] = 'ham'"
   ]
  },
  {
   "cell_type": "code",
   "execution_count": 19,
   "id": "a6ed4f70-9c10-4214-8734-931204522765",
   "metadata": {},
   "outputs": [
    {
     "name": "stdout",
     "output_type": "stream",
     "text": [
      "foo\n",
      "spam\n"
     ]
    }
   ],
   "source": [
    "for i in test:\n",
    "    print(i)"
   ]
  },
  {
   "cell_type": "code",
   "execution_count": null,
   "id": "ad7458c4-9aa6-415e-a005-1ce6a4d59136",
   "metadata": {},
   "outputs": [],
   "source": []
  }
 ],
 "metadata": {
  "kernelspec": {
   "display_name": "Python 3 (ipykernel)",
   "language": "python",
   "name": "python3"
  },
  "language_info": {
   "codemirror_mode": {
    "name": "ipython",
    "version": 3
   },
   "file_extension": ".py",
   "mimetype": "text/x-python",
   "name": "python",
   "nbconvert_exporter": "python",
   "pygments_lexer": "ipython3",
   "version": "3.8.12"
  }
 },
 "nbformat": 4,
 "nbformat_minor": 5
}
