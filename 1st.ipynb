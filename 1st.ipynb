{
 "cells": [
  {
   "cell_type": "code",
   "execution_count": 54,
   "id": "698b05b9-615e-4ac9-a079-bf2bbaaac3e0",
   "metadata": {},
   "outputs": [],
   "source": [
    "import requests\n",
    "from bs4 import BeautifulSoup"
   ]
  },
  {
   "cell_type": "code",
   "execution_count": 128,
   "id": "1f3ee391-640f-4389-9ab8-c15895995705",
   "metadata": {},
   "outputs": [],
   "source": [
    "def get_article(url):\n",
    "    r = requests.get(url)\n",
    "    article = dict()\n",
    "    article['soup'] = BeautifulSoup(r.content, 'html.parser')\n",
    "    article['title'] = article['soup'].title.text\n",
    "    body = article['soup'].find(\"div\", itemprop=\"articleBody\")\n",
    "#     print(body.text)\n",
    "    if body:\n",
    "        article['body'] = body.text\n",
    "    else:\n",
    "        article['body'] = None\n",
    "    return article"
   ]
  },
  {
   "cell_type": "code",
   "execution_count": 129,
   "id": "43372098-9482-437f-a7c8-df20195667aa",
   "metadata": {},
   "outputs": [
    {
     "name": "stdout",
     "output_type": "stream",
     "text": [
      "('Россиянам рассказали о возможности дешево слетать в ОАЭ: Мир: Путешествия: '\n",
      " 'Lenta.ru')\n",
      "('Стоимость туров в Объединенные Арабские Эмираты снизится благодаря '\n",
      " 'увеличению количества авиарейсов из России на курорт. Об этом сообщает '\n",
      " '«Интерфакс».Как рассказал генеральный директор туроператора «Арт-Тур» '\n",
      " 'Дмитрий Арутюнов, помимо путевок у россиян появится возможность купить более '\n",
      " 'дешевые авиабилеты.«Это позитивная новость, потому что мало стран, которые '\n",
      " 'на сегодняшний день открыты для туристов. Чем больше будет рейсов, тем '\n",
      " 'доступнее будет направление для россиян, поскольку стоимость авиаперевозки '\n",
      " 'снизится», — подчеркнул он.При этом эксперт отметил, что ОАЭ пользуются '\n",
      " 'популярностью у российских путешественников в зимнее время года, в том числе '\n",
      " 'из-за достаточно нестрогих правил въезда (туристы сдают ПЦР-тест перед '\n",
      " 'поездкой и повторно по прибытии). В связи с этим многие гостиницы бьют '\n",
      " 'рекорды по загрузке, поэтому ожидать сильного снижения цен на туры не '\n",
      " 'стоит.Ранее в октябре туроператоры назвали оптимальную стоимость путевок на '\n",
      " 'курорты ОАЭ. Средняя цена недельного отдыха в четырехзвездочном отеле с '\n",
      " 'питанием по системе «все включено» и вылетом в октябре для двоих '\n",
      " 'путешественников будет составлять 1374 доллара (примерно 98,3 тысячи '\n",
      " 'рублей). Отдых в гостинице категории «пять звезд» выйдет дороже — от 1933 до '\n",
      " '2353 долларов (138,4-168,5 тысячи рублей).')\n"
     ]
    }
   ],
   "source": [
    "from pprint import pprint as print\n",
    "\n",
    "some_url = 'https://lenta.ru/news/2021/10/14/biletyoae/'\n",
    "some_article = get_article(some_url)\n",
    "print(some_article['title'])\n",
    "print(some_article['body'])"
   ]
  },
  {
   "cell_type": "code",
   "execution_count": 114,
   "id": "8b50d42e-f582-42c1-9598-2b6199f2f1a6",
   "metadata": {},
   "outputs": [
    {
     "name": "stdout",
     "output_type": "stream",
     "text": [
      "94\n"
     ]
    }
   ],
   "source": [
    "import re\n",
    "\n",
    "queue = list()\n",
    "visited = list()\n",
    "\n",
    "def extract_article_links(article, queue, visited):\n",
    "    article_hrefs = article['soup'].find_all(\"a\", href=True)\n",
    "    for tag in article_hrefs:\n",
    "        link = tag['href']\n",
    "        if not 'http' in link and re.search(r'[0-9]{4}\\/[0-9]{2}\\/[0-9]{2}', link):\n",
    "            if link not in visited:\n",
    "                queue.append(link)\n",
    "    return queue\n",
    "\n",
    "some_links = extract_article_links(some_article, queue, visited)\n",
    "print(len(some_links))"
   ]
  },
  {
   "cell_type": "code",
   "execution_count": 136,
   "id": "396ffd67-efd9-489f-a365-31530dc80a59",
   "metadata": {},
   "outputs": [
    {
     "name": "stdout",
     "output_type": "stream",
     "text": [
      "'current queue length is1'\n",
      "'current visited size is0'\n",
      "'current queue length is1'\n",
      "'current visited size is0'\n",
      "'current queue length is900'\n",
      "'current visited size is10'\n",
      "'current queue length is2138'\n",
      "'current visited size is20'\n",
      "'current queue length is3062'\n",
      "'current visited size is30'\n",
      "'30 urls visited! Shutting down...'\n"
     ]
    }
   ],
   "source": [
    "import re\n",
    "\n",
    "queue = list()\n",
    "visited = set()\n",
    "articles = list()\n",
    "\n",
    "queue.append(some_url)\n",
    "depth = 1\n",
    "\n",
    "print('current queue length is' + str(len(queue)))\n",
    "print('current visited size is' + str(len(visited)))\n",
    "\n",
    "while depth:\n",
    "    for article_link in queue:\n",
    "        if not len(visited) % 10:\n",
    "            print('current queue length is' + str(len(queue)))\n",
    "            print('current visited size is' + str(len(visited)))\n",
    "        if len(visited) >= 30:\n",
    "            print('30 urls visited! Shutting down...')\n",
    "            break\n",
    "        visited.add(article_link)\n",
    "        article = get_article(article_link)\n",
    "        articles.append(article)\n",
    "#         print(article['body'])\n",
    "        article_hrefs = article['soup'].find_all(\"a\", href=True)\n",
    "        for tag in article_hrefs:\n",
    "            link = tag['href']\n",
    "            if not 'http' in link and re.search(r'[0-9]{4}\\/[0-9]{2}\\/[0-9]{2}\\/.+', link):\n",
    "                if link not in visited:\n",
    "                    queue.append('https://lenta.ru' + link)\n",
    "    depth = depth - 1"
   ]
  },
  {
   "cell_type": "code",
   "execution_count": 131,
   "id": "638e25fa-2394-4894-b389-e6a0e7d3b661",
   "metadata": {},
   "outputs": [
    {
     "data": {
      "text/plain": [
       "3062"
      ]
     },
     "execution_count": 131,
     "metadata": {},
     "output_type": "execute_result"
    }
   ],
   "source": [
    "len(queue)"
   ]
  },
  {
   "cell_type": "code",
   "execution_count": 132,
   "id": "d07d745b-ede2-4c13-92dd-d0704f5d6a0f",
   "metadata": {},
   "outputs": [
    {
     "data": {
      "text/plain": [
       "30"
      ]
     },
     "execution_count": 132,
     "metadata": {},
     "output_type": "execute_result"
    }
   ],
   "source": [
    "len(visited)"
   ]
  },
  {
   "cell_type": "code",
   "execution_count": 146,
   "id": "2b52bf2b-278b-4bae-b390-f4ba6597186a",
   "metadata": {},
   "outputs": [],
   "source": [
    "# for article in articles:\n",
    "#     print(article['body'])\n",
    "# articles[6]['body']"
   ]
  }
 ],
 "metadata": {
  "kernelspec": {
   "display_name": "Python 3 (ipykernel)",
   "language": "python",
   "name": "python3"
  },
  "language_info": {
   "codemirror_mode": {
    "name": "ipython",
    "version": 3
   },
   "file_extension": ".py",
   "mimetype": "text/x-python",
   "name": "python",
   "nbconvert_exporter": "python",
   "pygments_lexer": "ipython3",
   "version": "3.8.12"
  }
 },
 "nbformat": 4,
 "nbformat_minor": 5
}
